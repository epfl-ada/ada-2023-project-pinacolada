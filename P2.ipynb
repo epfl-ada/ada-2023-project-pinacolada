{
 "cells": [
  {
   "cell_type": "markdown",
   "metadata": {},
   "source": [
    "# Cleaning data"
   ]
  },
  {
   "cell_type": "code",
   "execution_count": 404,
   "metadata": {},
   "outputs": [],
   "source": [
    "# libraries to import\n",
    "import pandas as pd\n",
    "import numpy as np\n",
    "import matplotlib.pyplot as plt\n",
    "import seaborn as sns\n",
    "import json"
   ]
  },
  {
   "cell_type": "code",
   "execution_count": 405,
   "metadata": {},
   "outputs": [],
   "source": [
    "# folders of imported files\n",
    "folder_std = r'C:\\Users\\ciril\\OneDrive\\Desktop\\ADA\\MovieSummaries'"
   ]
  },
  {
   "cell_type": "code",
   "execution_count": 406,
   "metadata": {},
   "outputs": [
    {
     "data": {
      "text/html": [
       "<div>\n",
       "<style scoped>\n",
       "    .dataframe tbody tr th:only-of-type {\n",
       "        vertical-align: middle;\n",
       "    }\n",
       "\n",
       "    .dataframe tbody tr th {\n",
       "        vertical-align: top;\n",
       "    }\n",
       "\n",
       "    .dataframe thead th {\n",
       "        text-align: right;\n",
       "    }\n",
       "</style>\n",
       "<table border=\"1\" class=\"dataframe\">\n",
       "  <thead>\n",
       "    <tr style=\"text-align: right;\">\n",
       "      <th></th>\n",
       "      <th>wikiID</th>\n",
       "      <th>freeID</th>\n",
       "      <th>movie_name</th>\n",
       "      <th>release_date</th>\n",
       "      <th>revenue</th>\n",
       "      <th>runtime</th>\n",
       "      <th>languages</th>\n",
       "      <th>countries</th>\n",
       "      <th>genres</th>\n",
       "    </tr>\n",
       "  </thead>\n",
       "  <tbody>\n",
       "    <tr>\n",
       "      <th>0</th>\n",
       "      <td>975900</td>\n",
       "      <td>/m/03vyhn</td>\n",
       "      <td>Ghosts of Mars</td>\n",
       "      <td>2001-08-24</td>\n",
       "      <td>14010832.0</td>\n",
       "      <td>98.0</td>\n",
       "      <td>{\"/m/02h40lc\": \"English Language\"}</td>\n",
       "      <td>{\"/m/09c7w0\": \"United States of America\"}</td>\n",
       "      <td>{\"/m/01jfsb\": \"Thriller\", \"/m/06n90\": \"Science...</td>\n",
       "    </tr>\n",
       "    <tr>\n",
       "      <th>1</th>\n",
       "      <td>3196793</td>\n",
       "      <td>/m/08yl5d</td>\n",
       "      <td>Getting Away with Murder: The JonBenét Ramsey ...</td>\n",
       "      <td>2000-02-16</td>\n",
       "      <td>NaN</td>\n",
       "      <td>95.0</td>\n",
       "      <td>{\"/m/02h40lc\": \"English Language\"}</td>\n",
       "      <td>{\"/m/09c7w0\": \"United States of America\"}</td>\n",
       "      <td>{\"/m/02n4kr\": \"Mystery\", \"/m/03bxz7\": \"Biograp...</td>\n",
       "    </tr>\n",
       "    <tr>\n",
       "      <th>2</th>\n",
       "      <td>28463795</td>\n",
       "      <td>/m/0crgdbh</td>\n",
       "      <td>Brun bitter</td>\n",
       "      <td>1988</td>\n",
       "      <td>NaN</td>\n",
       "      <td>83.0</td>\n",
       "      <td>{\"/m/05f_3\": \"Norwegian Language\"}</td>\n",
       "      <td>{\"/m/05b4w\": \"Norway\"}</td>\n",
       "      <td>{\"/m/0lsxr\": \"Crime Fiction\", \"/m/07s9rl0\": \"D...</td>\n",
       "    </tr>\n",
       "    <tr>\n",
       "      <th>3</th>\n",
       "      <td>9363483</td>\n",
       "      <td>/m/0285_cd</td>\n",
       "      <td>White Of The Eye</td>\n",
       "      <td>1987</td>\n",
       "      <td>NaN</td>\n",
       "      <td>110.0</td>\n",
       "      <td>{\"/m/02h40lc\": \"English Language\"}</td>\n",
       "      <td>{\"/m/07ssc\": \"United Kingdom\"}</td>\n",
       "      <td>{\"/m/01jfsb\": \"Thriller\", \"/m/0glj9q\": \"Erotic...</td>\n",
       "    </tr>\n",
       "    <tr>\n",
       "      <th>4</th>\n",
       "      <td>261236</td>\n",
       "      <td>/m/01mrr1</td>\n",
       "      <td>A Woman in Flames</td>\n",
       "      <td>1983</td>\n",
       "      <td>NaN</td>\n",
       "      <td>106.0</td>\n",
       "      <td>{\"/m/04306rv\": \"German Language\"}</td>\n",
       "      <td>{\"/m/0345h\": \"Germany\"}</td>\n",
       "      <td>{\"/m/07s9rl0\": \"Drama\"}</td>\n",
       "    </tr>\n",
       "  </tbody>\n",
       "</table>\n",
       "</div>"
      ],
      "text/plain": [
       "     wikiID      freeID                                         movie_name  \\\n",
       "0    975900   /m/03vyhn                                     Ghosts of Mars   \n",
       "1   3196793   /m/08yl5d  Getting Away with Murder: The JonBenét Ramsey ...   \n",
       "2  28463795  /m/0crgdbh                                        Brun bitter   \n",
       "3   9363483  /m/0285_cd                                   White Of The Eye   \n",
       "4    261236   /m/01mrr1                                  A Woman in Flames   \n",
       "\n",
       "  release_date     revenue  runtime                           languages  \\\n",
       "0   2001-08-24  14010832.0     98.0  {\"/m/02h40lc\": \"English Language\"}   \n",
       "1   2000-02-16         NaN     95.0  {\"/m/02h40lc\": \"English Language\"}   \n",
       "2         1988         NaN     83.0  {\"/m/05f_3\": \"Norwegian Language\"}   \n",
       "3         1987         NaN    110.0  {\"/m/02h40lc\": \"English Language\"}   \n",
       "4         1983         NaN    106.0   {\"/m/04306rv\": \"German Language\"}   \n",
       "\n",
       "                                   countries  \\\n",
       "0  {\"/m/09c7w0\": \"United States of America\"}   \n",
       "1  {\"/m/09c7w0\": \"United States of America\"}   \n",
       "2                     {\"/m/05b4w\": \"Norway\"}   \n",
       "3             {\"/m/07ssc\": \"United Kingdom\"}   \n",
       "4                    {\"/m/0345h\": \"Germany\"}   \n",
       "\n",
       "                                              genres  \n",
       "0  {\"/m/01jfsb\": \"Thriller\", \"/m/06n90\": \"Science...  \n",
       "1  {\"/m/02n4kr\": \"Mystery\", \"/m/03bxz7\": \"Biograp...  \n",
       "2  {\"/m/0lsxr\": \"Crime Fiction\", \"/m/07s9rl0\": \"D...  \n",
       "3  {\"/m/01jfsb\": \"Thriller\", \"/m/0glj9q\": \"Erotic...  \n",
       "4                            {\"/m/07s9rl0\": \"Drama\"}  "
      ]
     },
     "execution_count": 406,
     "metadata": {},
     "output_type": "execute_result"
    }
   ],
   "source": [
    "# import data. We will use the movie.metadata.tsv file\n",
    "col_names = ['wikiID','freeID','movie_name','release_date','revenue','runtime','languages','countries','genres']\n",
    "movies = pd.read_csv(folder_std + \"\\\\movie.metadata.tsv\",sep='\\t',names=col_names)\n",
    "movies.head()"
   ]
  },
  {
   "cell_type": "code",
   "execution_count": 407,
   "metadata": {},
   "outputs": [],
   "source": [
    "# the column release date is set to be a datetime object. We have two different formats. we solve this using a mask\n",
    "release_date = pd.to_datetime(movies['release_date'],errors='coerce')\n",
    "mask = release_date.isna()\n",
    "second_format = pd.to_datetime(movies['release_date'][mask],format='%Y',errors='coerce')\n",
    "release_date[mask] = second_format\n",
    "movies['release_date'] = release_date"
   ]
  },
  {
   "cell_type": "code",
   "execution_count": 408,
   "metadata": {},
   "outputs": [
    {
     "name": "stdout",
     "output_type": "stream",
     "text": [
      "This is the movies dataframe we will use for the rest of the project\n"
     ]
    },
    {
     "data": {
      "text/html": [
       "<div>\n",
       "<style scoped>\n",
       "    .dataframe tbody tr th:only-of-type {\n",
       "        vertical-align: middle;\n",
       "    }\n",
       "\n",
       "    .dataframe tbody tr th {\n",
       "        vertical-align: top;\n",
       "    }\n",
       "\n",
       "    .dataframe thead th {\n",
       "        text-align: right;\n",
       "    }\n",
       "</style>\n",
       "<table border=\"1\" class=\"dataframe\">\n",
       "  <thead>\n",
       "    <tr style=\"text-align: right;\">\n",
       "      <th></th>\n",
       "      <th>wikiID</th>\n",
       "      <th>freeID</th>\n",
       "      <th>movie_name</th>\n",
       "      <th>release_date</th>\n",
       "      <th>revenue</th>\n",
       "      <th>runtime</th>\n",
       "      <th>languages</th>\n",
       "      <th>countries</th>\n",
       "      <th>genres</th>\n",
       "    </tr>\n",
       "  </thead>\n",
       "  <tbody>\n",
       "    <tr>\n",
       "      <th>0</th>\n",
       "      <td>975900</td>\n",
       "      <td>/m/03vyhn</td>\n",
       "      <td>Ghosts of Mars</td>\n",
       "      <td>2001-08-24</td>\n",
       "      <td>14010832.0</td>\n",
       "      <td>98.0</td>\n",
       "      <td>{\"/m/02h40lc\": \"English Language\"}</td>\n",
       "      <td>[United States of America]</td>\n",
       "      <td>{\"/m/01jfsb\": \"Thriller\", \"/m/06n90\": \"Science...</td>\n",
       "    </tr>\n",
       "    <tr>\n",
       "      <th>1</th>\n",
       "      <td>3196793</td>\n",
       "      <td>/m/08yl5d</td>\n",
       "      <td>Getting Away with Murder: The JonBenét Ramsey ...</td>\n",
       "      <td>2000-02-16</td>\n",
       "      <td>NaN</td>\n",
       "      <td>95.0</td>\n",
       "      <td>{\"/m/02h40lc\": \"English Language\"}</td>\n",
       "      <td>[United States of America]</td>\n",
       "      <td>{\"/m/02n4kr\": \"Mystery\", \"/m/03bxz7\": \"Biograp...</td>\n",
       "    </tr>\n",
       "    <tr>\n",
       "      <th>2</th>\n",
       "      <td>28463795</td>\n",
       "      <td>/m/0crgdbh</td>\n",
       "      <td>Brun bitter</td>\n",
       "      <td>1988-01-01</td>\n",
       "      <td>NaN</td>\n",
       "      <td>83.0</td>\n",
       "      <td>{\"/m/05f_3\": \"Norwegian Language\"}</td>\n",
       "      <td>[Norway]</td>\n",
       "      <td>{\"/m/0lsxr\": \"Crime Fiction\", \"/m/07s9rl0\": \"D...</td>\n",
       "    </tr>\n",
       "    <tr>\n",
       "      <th>3</th>\n",
       "      <td>9363483</td>\n",
       "      <td>/m/0285_cd</td>\n",
       "      <td>White Of The Eye</td>\n",
       "      <td>1987-01-01</td>\n",
       "      <td>NaN</td>\n",
       "      <td>110.0</td>\n",
       "      <td>{\"/m/02h40lc\": \"English Language\"}</td>\n",
       "      <td>[United Kingdom]</td>\n",
       "      <td>{\"/m/01jfsb\": \"Thriller\", \"/m/0glj9q\": \"Erotic...</td>\n",
       "    </tr>\n",
       "    <tr>\n",
       "      <th>4</th>\n",
       "      <td>261236</td>\n",
       "      <td>/m/01mrr1</td>\n",
       "      <td>A Woman in Flames</td>\n",
       "      <td>1983-01-01</td>\n",
       "      <td>NaN</td>\n",
       "      <td>106.0</td>\n",
       "      <td>{\"/m/04306rv\": \"German Language\"}</td>\n",
       "      <td>[Germany]</td>\n",
       "      <td>{\"/m/07s9rl0\": \"Drama\"}</td>\n",
       "    </tr>\n",
       "  </tbody>\n",
       "</table>\n",
       "</div>"
      ],
      "text/plain": [
       "     wikiID      freeID                                         movie_name  \\\n",
       "0    975900   /m/03vyhn                                     Ghosts of Mars   \n",
       "1   3196793   /m/08yl5d  Getting Away with Murder: The JonBenét Ramsey ...   \n",
       "2  28463795  /m/0crgdbh                                        Brun bitter   \n",
       "3   9363483  /m/0285_cd                                   White Of The Eye   \n",
       "4    261236   /m/01mrr1                                  A Woman in Flames   \n",
       "\n",
       "  release_date     revenue  runtime                           languages  \\\n",
       "0   2001-08-24  14010832.0     98.0  {\"/m/02h40lc\": \"English Language\"}   \n",
       "1   2000-02-16         NaN     95.0  {\"/m/02h40lc\": \"English Language\"}   \n",
       "2   1988-01-01         NaN     83.0  {\"/m/05f_3\": \"Norwegian Language\"}   \n",
       "3   1987-01-01         NaN    110.0  {\"/m/02h40lc\": \"English Language\"}   \n",
       "4   1983-01-01         NaN    106.0   {\"/m/04306rv\": \"German Language\"}   \n",
       "\n",
       "                    countries  \\\n",
       "0  [United States of America]   \n",
       "1  [United States of America]   \n",
       "2                    [Norway]   \n",
       "3            [United Kingdom]   \n",
       "4                   [Germany]   \n",
       "\n",
       "                                              genres  \n",
       "0  {\"/m/01jfsb\": \"Thriller\", \"/m/06n90\": \"Science...  \n",
       "1  {\"/m/02n4kr\": \"Mystery\", \"/m/03bxz7\": \"Biograp...  \n",
       "2  {\"/m/0lsxr\": \"Crime Fiction\", \"/m/07s9rl0\": \"D...  \n",
       "3  {\"/m/01jfsb\": \"Thriller\", \"/m/0glj9q\": \"Erotic...  \n",
       "4                            {\"/m/07s9rl0\": \"Drama\"}  "
      ]
     },
     "execution_count": 408,
     "metadata": {},
     "output_type": "execute_result"
    }
   ],
   "source": [
    "# Convert the countries column to a list of countries\n",
    "movies['countries'] = movies['countries'].apply(lambda x: list(json.loads(x).values()))\n",
    "print('This is the movies dataframe we will use for the rest of the project')\n",
    "movies.head()"
   ]
  },
  {
   "cell_type": "markdown",
   "metadata": {},
   "source": [
    "# Movies per year"
   ]
  },
  {
   "cell_type": "code",
   "execution_count": 409,
   "metadata": {},
   "outputs": [
    {
     "data": {
      "image/png": "[encoded data removed]",
      "text/plain": [
       "<Figure size 1000x500 with 1 Axes>"
      ]
     },
     "metadata": {},
     "output_type": "display_data"
    }
   ],
   "source": [
    "# we want to plot the number of movies released per year\n",
    "# we group by year and count the number of movies\n",
    "yearly_movies = movies.groupby(movies['release_date'].dt.year)['release_date'].count().reset_index(name='count')\n",
    "\n",
    "\n",
    "# plot the number of movies per year\n",
    "plt.figure(figsize=(10,5))\n",
    "plt.bar(yearly_movies['release_date'],yearly_movies['count'])\n",
    "plt.xlabel('Year')\n",
    "plt.ylabel('Number of movies')\n",
    "plt.title('Number of movies released per year')\n",
    "plt.show()"
   ]
  },
  {
   "cell_type": "code",
   "execution_count": 410,
   "metadata": {},
   "outputs": [
    {
     "name": "stdout",
     "output_type": "stream",
     "text": [
      "Movies before the year 2001 are 49056\n",
      "Movies after the year 2001 are 22488\n",
      "The ratio of movies after the year 2001 is 0.31\n"
     ]
    }
   ],
   "source": [
    "# we want to know how many movies were released before and after the year 2001, since this is the year of the twin towers attack\n",
    "count_before2001 = yearly_movies[yearly_movies['release_date']<2001]['count'].sum()\n",
    "count_after2001 = yearly_movies[yearly_movies['release_date']>=2001]['count'].sum()\n",
    "print(f'Movies before the year 2001 are {count_before2001}')\n",
    "print(f'Movies after the year 2001 are {count_after2001}')\n",
    "print(f'The ratio of movies after the year 2001 is {count_after2001/(count_after2001+ count_before2001):.2}')  "
   ]
  },
  {
   "cell_type": "markdown",
   "metadata": {},
   "source": [
    "The twin tower event has a relevant amount of films before (arounf 69%) and after (31%). This is a first sign that we can work analysing it through movies. \n",
    "\n",
    "Now, to really study arab actors, we read the actors df and work on the ethnicities."
   ]
  },
  {
   "cell_type": "markdown",
   "metadata": {},
   "source": [
    "# Ethnicity analysis (better in Filippo's version)"
   ]
  },
  {
   "cell_type": "code",
   "execution_count": 411,
   "metadata": {},
   "outputs": [
    {
     "data": {
      "text/html": [
       "<div>\n",
       "<style scoped>\n",
       "    .dataframe tbody tr th:only-of-type {\n",
       "        vertical-align: middle;\n",
       "    }\n",
       "\n",
       "    .dataframe tbody tr th {\n",
       "        vertical-align: top;\n",
       "    }\n",
       "\n",
       "    .dataframe thead th {\n",
       "        text-align: right;\n",
       "    }\n",
       "</style>\n",
       "<table border=\"1\" class=\"dataframe\">\n",
       "  <thead>\n",
       "    <tr style=\"text-align: right;\">\n",
       "      <th></th>\n",
       "      <th>wikiID</th>\n",
       "      <th>freeID</th>\n",
       "      <th>release_date</th>\n",
       "      <th>character_name</th>\n",
       "      <th>birth</th>\n",
       "      <th>gender</th>\n",
       "      <th>height</th>\n",
       "      <th>ethnicity_code</th>\n",
       "      <th>actor_name</th>\n",
       "      <th>age_at_release</th>\n",
       "      <th>freeID_character_actor_map</th>\n",
       "      <th>freeID_character</th>\n",
       "      <th>freeID_actor</th>\n",
       "    </tr>\n",
       "  </thead>\n",
       "  <tbody>\n",
       "    <tr>\n",
       "      <th>0</th>\n",
       "      <td>975900</td>\n",
       "      <td>/m/03vyhn</td>\n",
       "      <td>2001-08-24</td>\n",
       "      <td>Akooshay</td>\n",
       "      <td>1958-08-26</td>\n",
       "      <td>F</td>\n",
       "      <td>1.620</td>\n",
       "      <td>NaN</td>\n",
       "      <td>Wanda De Jesus</td>\n",
       "      <td>42.0</td>\n",
       "      <td>/m/0bgchxw</td>\n",
       "      <td>/m/0bgcj3x</td>\n",
       "      <td>/m/03wcfv7</td>\n",
       "    </tr>\n",
       "    <tr>\n",
       "      <th>1</th>\n",
       "      <td>975900</td>\n",
       "      <td>/m/03vyhn</td>\n",
       "      <td>2001-08-24</td>\n",
       "      <td>Lieutenant Melanie Ballard</td>\n",
       "      <td>1974-08-15</td>\n",
       "      <td>F</td>\n",
       "      <td>1.780</td>\n",
       "      <td>/m/044038p</td>\n",
       "      <td>Natasha Henstridge</td>\n",
       "      <td>27.0</td>\n",
       "      <td>/m/0jys3m</td>\n",
       "      <td>/m/0bgchn4</td>\n",
       "      <td>/m/0346l4</td>\n",
       "    </tr>\n",
       "    <tr>\n",
       "      <th>2</th>\n",
       "      <td>975900</td>\n",
       "      <td>/m/03vyhn</td>\n",
       "      <td>2001-08-24</td>\n",
       "      <td>Desolation Williams</td>\n",
       "      <td>1969-06-15</td>\n",
       "      <td>M</td>\n",
       "      <td>1.727</td>\n",
       "      <td>/m/0x67</td>\n",
       "      <td>Ice Cube</td>\n",
       "      <td>32.0</td>\n",
       "      <td>/m/0jys3g</td>\n",
       "      <td>/m/0bgchn_</td>\n",
       "      <td>/m/01vw26l</td>\n",
       "    </tr>\n",
       "    <tr>\n",
       "      <th>3</th>\n",
       "      <td>975900</td>\n",
       "      <td>/m/03vyhn</td>\n",
       "      <td>2001-08-24</td>\n",
       "      <td>Sgt Jericho Butler</td>\n",
       "      <td>1967-09-12</td>\n",
       "      <td>M</td>\n",
       "      <td>1.750</td>\n",
       "      <td>NaN</td>\n",
       "      <td>Jason Statham</td>\n",
       "      <td>33.0</td>\n",
       "      <td>/m/02vchl6</td>\n",
       "      <td>/m/0bgchnq</td>\n",
       "      <td>/m/034hyc</td>\n",
       "    </tr>\n",
       "    <tr>\n",
       "      <th>4</th>\n",
       "      <td>975900</td>\n",
       "      <td>/m/03vyhn</td>\n",
       "      <td>2001-08-24</td>\n",
       "      <td>Bashira Kincaid</td>\n",
       "      <td>1977-09-25</td>\n",
       "      <td>F</td>\n",
       "      <td>1.650</td>\n",
       "      <td>NaN</td>\n",
       "      <td>Clea DuVall</td>\n",
       "      <td>23.0</td>\n",
       "      <td>/m/02vbb3r</td>\n",
       "      <td>/m/0bgchp9</td>\n",
       "      <td>/m/01y9xg</td>\n",
       "    </tr>\n",
       "  </tbody>\n",
       "</table>\n",
       "</div>"
      ],
      "text/plain": [
       "   wikiID     freeID release_date              character_name       birth  \\\n",
       "0  975900  /m/03vyhn   2001-08-24                    Akooshay  1958-08-26   \n",
       "1  975900  /m/03vyhn   2001-08-24  Lieutenant Melanie Ballard  1974-08-15   \n",
       "2  975900  /m/03vyhn   2001-08-24         Desolation Williams  1969-06-15   \n",
       "3  975900  /m/03vyhn   2001-08-24          Sgt Jericho Butler  1967-09-12   \n",
       "4  975900  /m/03vyhn   2001-08-24             Bashira Kincaid  1977-09-25   \n",
       "\n",
       "  gender  height ethnicity_code          actor_name  age_at_release  \\\n",
       "0      F   1.620            NaN      Wanda De Jesus            42.0   \n",
       "1      F   1.780     /m/044038p  Natasha Henstridge            27.0   \n",
       "2      M   1.727        /m/0x67            Ice Cube            32.0   \n",
       "3      M   1.750            NaN       Jason Statham            33.0   \n",
       "4      F   1.650            NaN         Clea DuVall            23.0   \n",
       "\n",
       "  freeID_character_actor_map freeID_character freeID_actor  \n",
       "0                 /m/0bgchxw       /m/0bgcj3x   /m/03wcfv7  \n",
       "1                  /m/0jys3m       /m/0bgchn4    /m/0346l4  \n",
       "2                  /m/0jys3g       /m/0bgchn_   /m/01vw26l  \n",
       "3                 /m/02vchl6       /m/0bgchnq    /m/034hyc  \n",
       "4                 /m/02vbb3r       /m/0bgchp9    /m/01y9xg  "
      ]
     },
     "execution_count": 411,
     "metadata": {},
     "output_type": "execute_result"
    }
   ],
   "source": [
    "# Read the character.metadata.tsv file\n",
    "col_names = ['wikiID','freeID','release_date','character_name','birth','gender','height','ethnicity_code', 'actor_name', 'age_at_release', 'freeID_character_actor_map', 'freeID_character', 'freeID_actor']\n",
    "characters= pd.read_csv(open(folder_std + \"\\\\character.metadata.tsv\",encoding='utf-8'), delimiter=\"\\t\", names=col_names)\n",
    "\n",
    "characters.head()"
   ]
  },
  {
   "cell_type": "markdown",
   "metadata": {},
   "source": [
    "We use a merge to join movies and character dataframes. We use the freeID and wikiID, (identifiers for movies) as keys"
   ]
  },
  {
   "cell_type": "code",
   "execution_count": 412,
   "metadata": {},
   "outputs": [],
   "source": [
    "# merge the two dataframes on the wikiID and freeID\n",
    "movies_characters = pd.merge(movies, characters, on=['freeID', 'wikiID'], how='inner', suffixes=('', '_y'))\n",
    "\n",
    "# we drop the duplicate columns\n",
    "movies_characters=movies_characters.drop(['release_date_y'], axis=1)"
   ]
  },
  {
   "cell_type": "code",
   "execution_count": 413,
   "metadata": {},
   "outputs": [
    {
     "data": {
      "text/html": [
       "<div>\n",
       "<style scoped>\n",
       "    .dataframe tbody tr th:only-of-type {\n",
       "        vertical-align: middle;\n",
       "    }\n",
       "\n",
       "    .dataframe tbody tr th {\n",
       "        vertical-align: top;\n",
       "    }\n",
       "\n",
       "    .dataframe thead th {\n",
       "        text-align: right;\n",
       "    }\n",
       "</style>\n",
       "<table border=\"1\" class=\"dataframe\">\n",
       "  <thead>\n",
       "    <tr style=\"text-align: right;\">\n",
       "      <th></th>\n",
       "      <th>wikiID</th>\n",
       "      <th>freeID</th>\n",
       "      <th>movie_name</th>\n",
       "      <th>release_date</th>\n",
       "      <th>revenue</th>\n",
       "      <th>runtime</th>\n",
       "      <th>languages</th>\n",
       "      <th>countries</th>\n",
       "      <th>genres</th>\n",
       "      <th>character_name</th>\n",
       "      <th>birth</th>\n",
       "      <th>gender</th>\n",
       "      <th>height</th>\n",
       "      <th>ethnicity_code</th>\n",
       "      <th>actor_name</th>\n",
       "      <th>age_at_release</th>\n",
       "      <th>freeID_character_actor_map</th>\n",
       "      <th>freeID_character</th>\n",
       "      <th>freeID_actor</th>\n",
       "    </tr>\n",
       "  </thead>\n",
       "  <tbody>\n",
       "    <tr>\n",
       "      <th>0</th>\n",
       "      <td>975900</td>\n",
       "      <td>/m/03vyhn</td>\n",
       "      <td>Ghosts of Mars</td>\n",
       "      <td>2001-08-24</td>\n",
       "      <td>14010832.0</td>\n",
       "      <td>98.0</td>\n",
       "      <td>{\"/m/02h40lc\": \"English Language\"}</td>\n",
       "      <td>[United States of America]</td>\n",
       "      <td>{\"/m/01jfsb\": \"Thriller\", \"/m/06n90\": \"Science...</td>\n",
       "      <td>Akooshay</td>\n",
       "      <td>1958-08-26</td>\n",
       "      <td>F</td>\n",
       "      <td>1.62</td>\n",
       "      <td>NaN</td>\n",
       "      <td>Wanda De Jesus</td>\n",
       "      <td>42.0</td>\n",
       "      <td>/m/0bgchxw</td>\n",
       "      <td>/m/0bgcj3x</td>\n",
       "      <td>/m/03wcfv7</td>\n",
       "    </tr>\n",
       "    <tr>\n",
       "      <th>1</th>\n",
       "      <td>975900</td>\n",
       "      <td>/m/03vyhn</td>\n",
       "      <td>Ghosts of Mars</td>\n",
       "      <td>2001-08-24</td>\n",
       "      <td>14010832.0</td>\n",
       "      <td>98.0</td>\n",
       "      <td>{\"/m/02h40lc\": \"English Language\"}</td>\n",
       "      <td>[United States of America]</td>\n",
       "      <td>{\"/m/01jfsb\": \"Thriller\", \"/m/06n90\": \"Science...</td>\n",
       "      <td>Lieutenant Melanie Ballard</td>\n",
       "      <td>1974-08-15</td>\n",
       "      <td>F</td>\n",
       "      <td>1.78</td>\n",
       "      <td>/m/044038p</td>\n",
       "      <td>Natasha Henstridge</td>\n",
       "      <td>27.0</td>\n",
       "      <td>/m/0jys3m</td>\n",
       "      <td>/m/0bgchn4</td>\n",
       "      <td>/m/0346l4</td>\n",
       "    </tr>\n",
       "  </tbody>\n",
       "</table>\n",
       "</div>"
      ],
      "text/plain": [
       "   wikiID     freeID      movie_name release_date     revenue  runtime  \\\n",
       "0  975900  /m/03vyhn  Ghosts of Mars   2001-08-24  14010832.0     98.0   \n",
       "1  975900  /m/03vyhn  Ghosts of Mars   2001-08-24  14010832.0     98.0   \n",
       "\n",
       "                            languages                   countries  \\\n",
       "0  {\"/m/02h40lc\": \"English Language\"}  [United States of America]   \n",
       "1  {\"/m/02h40lc\": \"English Language\"}  [United States of America]   \n",
       "\n",
       "                                              genres  \\\n",
       "0  {\"/m/01jfsb\": \"Thriller\", \"/m/06n90\": \"Science...   \n",
       "1  {\"/m/01jfsb\": \"Thriller\", \"/m/06n90\": \"Science...   \n",
       "\n",
       "               character_name       birth gender  height ethnicity_code  \\\n",
       "0                    Akooshay  1958-08-26      F    1.62            NaN   \n",
       "1  Lieutenant Melanie Ballard  1974-08-15      F    1.78     /m/044038p   \n",
       "\n",
       "           actor_name  age_at_release freeID_character_actor_map  \\\n",
       "0      Wanda De Jesus            42.0                 /m/0bgchxw   \n",
       "1  Natasha Henstridge            27.0                  /m/0jys3m   \n",
       "\n",
       "  freeID_character freeID_actor  \n",
       "0       /m/0bgcj3x   /m/03wcfv7  \n",
       "1       /m/0bgchn4    /m/0346l4  "
      ]
     },
     "execution_count": 413,
     "metadata": {},
     "output_type": "execute_result"
    }
   ],
   "source": [
    "movies_characters.head(2)"
   ]
  },
  {
   "cell_type": "markdown",
   "metadata": {},
   "source": [
    "We want to study the ethnicity column. Analysing the freebase ID we want to get who is arab"
   ]
  },
  {
   "cell_type": "code",
   "execution_count": 414,
   "metadata": {},
   "outputs": [
    {
     "name": "stdout",
     "output_type": "stream",
     "text": [
      "There are 480 different ethnicities\n"
     ]
    }
   ],
   "source": [
    "# print the number of Actor ethnicities (Freebase ID)\n",
    "eth_num = movies_characters['ethnicity_code'].unique().shape[0]\n",
    "print(f'There are {eth_num} different ethnicities')\n"
   ]
  },
  {
   "cell_type": "markdown",
   "metadata": {},
   "source": [
    "How to decode the Freebase ID to a precise ethnicity? We used a query command to the freebase API and got a database to work on."
   ]
  },
  {
   "cell_type": "code",
   "execution_count": 415,
   "metadata": {},
   "outputs": [
    {
     "data": {
      "text/html": [
       "<div>\n",
       "<style scoped>\n",
       "    .dataframe tbody tr th:only-of-type {\n",
       "        vertical-align: middle;\n",
       "    }\n",
       "\n",
       "    .dataframe tbody tr th {\n",
       "        vertical-align: top;\n",
       "    }\n",
       "\n",
       "    .dataframe thead th {\n",
       "        text-align: right;\n",
       "    }\n",
       "</style>\n",
       "<table border=\"1\" class=\"dataframe\">\n",
       "  <thead>\n",
       "    <tr style=\"text-align: right;\">\n",
       "      <th></th>\n",
       "      <th>ethnicity_code</th>\n",
       "      <th>ethnicity_name</th>\n",
       "    </tr>\n",
       "  </thead>\n",
       "  <tbody>\n",
       "    <tr>\n",
       "      <th>0</th>\n",
       "      <td>/m/07s8n27</td>\n",
       "      <td>Makonde people</td>\n",
       "    </tr>\n",
       "    <tr>\n",
       "      <th>1</th>\n",
       "      <td>/m/02k1vf</td>\n",
       "      <td>Powhatan</td>\n",
       "    </tr>\n",
       "    <tr>\n",
       "      <th>2</th>\n",
       "      <td>/m/0630vt</td>\n",
       "      <td>Apalachee people</td>\n",
       "    </tr>\n",
       "    <tr>\n",
       "      <th>3</th>\n",
       "      <td>/m/038cy</td>\n",
       "      <td>Germanic peoples</td>\n",
       "    </tr>\n",
       "    <tr>\n",
       "      <th>4</th>\n",
       "      <td>/m/03gq7tt</td>\n",
       "      <td>Hän people</td>\n",
       "    </tr>\n",
       "  </tbody>\n",
       "</table>\n",
       "</div>"
      ],
      "text/plain": [
       "  ethnicity_code    ethnicity_name\n",
       "0     /m/07s8n27    Makonde people\n",
       "1      /m/02k1vf          Powhatan\n",
       "2      /m/0630vt  Apalachee people\n",
       "3       /m/038cy  Germanic peoples\n",
       "4     /m/03gq7tt        Hän people"
      ]
     },
     "execution_count": 415,
     "metadata": {},
     "output_type": "execute_result"
    }
   ],
   "source": [
    "# read the csv file where we decode the ethnicities ID\n",
    "ethnicity_decode = pd.read_csv(folder_std + \"\\\\ethnicity.csv\",sep=',')\n",
    "ethnicity_decode.columns= ['ethnicity_code', 'ethnicity_name']\n",
    "ethnicity_decode.head()"
   ]
  },
  {
   "cell_type": "code",
   "execution_count": 416,
   "metadata": {},
   "outputs": [
    {
     "data": {
      "text/html": [
       "<div>\n",
       "<style scoped>\n",
       "    .dataframe tbody tr th:only-of-type {\n",
       "        vertical-align: middle;\n",
       "    }\n",
       "\n",
       "    .dataframe tbody tr th {\n",
       "        vertical-align: top;\n",
       "    }\n",
       "\n",
       "    .dataframe thead th {\n",
       "        text-align: right;\n",
       "    }\n",
       "</style>\n",
       "<table border=\"1\" class=\"dataframe\">\n",
       "  <thead>\n",
       "    <tr style=\"text-align: right;\">\n",
       "      <th></th>\n",
       "      <th>wikiID</th>\n",
       "      <th>freeID</th>\n",
       "      <th>movie_name</th>\n",
       "      <th>release_date</th>\n",
       "      <th>revenue</th>\n",
       "      <th>runtime</th>\n",
       "      <th>languages</th>\n",
       "      <th>countries</th>\n",
       "      <th>genres</th>\n",
       "      <th>character_name</th>\n",
       "      <th>birth</th>\n",
       "      <th>gender</th>\n",
       "      <th>height</th>\n",
       "      <th>ethnicity_code</th>\n",
       "      <th>actor_name</th>\n",
       "      <th>age_at_release</th>\n",
       "      <th>freeID_character_actor_map</th>\n",
       "      <th>freeID_character</th>\n",
       "      <th>freeID_actor</th>\n",
       "      <th>ethnicity_name</th>\n",
       "    </tr>\n",
       "  </thead>\n",
       "  <tbody>\n",
       "    <tr>\n",
       "      <th>0</th>\n",
       "      <td>975900</td>\n",
       "      <td>/m/03vyhn</td>\n",
       "      <td>Ghosts of Mars</td>\n",
       "      <td>2001-08-24</td>\n",
       "      <td>14010832.0</td>\n",
       "      <td>98.0</td>\n",
       "      <td>{\"/m/02h40lc\": \"English Language\"}</td>\n",
       "      <td>[United States of America]</td>\n",
       "      <td>{\"/m/01jfsb\": \"Thriller\", \"/m/06n90\": \"Science...</td>\n",
       "      <td>Akooshay</td>\n",
       "      <td>1958-08-26</td>\n",
       "      <td>F</td>\n",
       "      <td>1.62</td>\n",
       "      <td>NaN</td>\n",
       "      <td>Wanda De Jesus</td>\n",
       "      <td>42.0</td>\n",
       "      <td>/m/0bgchxw</td>\n",
       "      <td>/m/0bgcj3x</td>\n",
       "      <td>/m/03wcfv7</td>\n",
       "      <td>NaN</td>\n",
       "    </tr>\n",
       "    <tr>\n",
       "      <th>1</th>\n",
       "      <td>975900</td>\n",
       "      <td>/m/03vyhn</td>\n",
       "      <td>Ghosts of Mars</td>\n",
       "      <td>2001-08-24</td>\n",
       "      <td>14010832.0</td>\n",
       "      <td>98.0</td>\n",
       "      <td>{\"/m/02h40lc\": \"English Language\"}</td>\n",
       "      <td>[United States of America]</td>\n",
       "      <td>{\"/m/01jfsb\": \"Thriller\", \"/m/06n90\": \"Science...</td>\n",
       "      <td>Lieutenant Melanie Ballard</td>\n",
       "      <td>1974-08-15</td>\n",
       "      <td>F</td>\n",
       "      <td>1.78</td>\n",
       "      <td>/m/044038p</td>\n",
       "      <td>Natasha Henstridge</td>\n",
       "      <td>27.0</td>\n",
       "      <td>/m/0jys3m</td>\n",
       "      <td>/m/0bgchn4</td>\n",
       "      <td>/m/0346l4</td>\n",
       "      <td>NaN</td>\n",
       "    </tr>\n",
       "  </tbody>\n",
       "</table>\n",
       "</div>"
      ],
      "text/plain": [
       "   wikiID     freeID      movie_name release_date     revenue  runtime  \\\n",
       "0  975900  /m/03vyhn  Ghosts of Mars   2001-08-24  14010832.0     98.0   \n",
       "1  975900  /m/03vyhn  Ghosts of Mars   2001-08-24  14010832.0     98.0   \n",
       "\n",
       "                            languages                   countries  \\\n",
       "0  {\"/m/02h40lc\": \"English Language\"}  [United States of America]   \n",
       "1  {\"/m/02h40lc\": \"English Language\"}  [United States of America]   \n",
       "\n",
       "                                              genres  \\\n",
       "0  {\"/m/01jfsb\": \"Thriller\", \"/m/06n90\": \"Science...   \n",
       "1  {\"/m/01jfsb\": \"Thriller\", \"/m/06n90\": \"Science...   \n",
       "\n",
       "               character_name       birth gender  height ethnicity_code  \\\n",
       "0                    Akooshay  1958-08-26      F    1.62            NaN   \n",
       "1  Lieutenant Melanie Ballard  1974-08-15      F    1.78     /m/044038p   \n",
       "\n",
       "           actor_name  age_at_release freeID_character_actor_map  \\\n",
       "0      Wanda De Jesus            42.0                 /m/0bgchxw   \n",
       "1  Natasha Henstridge            27.0                  /m/0jys3m   \n",
       "\n",
       "  freeID_character freeID_actor ethnicity_name  \n",
       "0       /m/0bgcj3x   /m/03wcfv7            NaN  \n",
       "1       /m/0bgchn4    /m/0346l4            NaN  "
      ]
     },
     "execution_count": 416,
     "metadata": {},
     "output_type": "execute_result"
    }
   ],
   "source": [
    "# merging the two dataframes\n",
    "movies_characters_eth= pd.merge(movies_characters, ethnicity_decode, how='left', left_on=['ethnicity_code'], right_on=['ethnicity_code'])\n",
    "movies_characters_eth.head(2)"
   ]
  },
  {
   "cell_type": "markdown",
   "metadata": {},
   "source": [
    "We want to find the distribution of ethnicities in the dataset. "
   ]
  },
  {
   "cell_type": "code",
   "execution_count": 417,
   "metadata": {},
   "outputs": [
    {
     "data": {
      "image/png": "[encoded data removed]",
      "text/plain": [
       "<Figure size 640x480 with 1 Axes>"
      ]
     },
     "metadata": {},
     "output_type": "display_data"
    }
   ],
   "source": [
    "ethnicity_count = movies_characters_eth.groupby(movies_characters_eth['ethnicity_name'])['ethnicity_name'].count().reset_index(name = 'count')\n",
    "\n",
    "ethnicity_count = ethnicity_count.sort_values(by='count',ascending=False)\n",
    "plt.bar(ethnicity_count['ethnicity_name'].iloc[:20],ethnicity_count['count'].iloc[:20])\n",
    "plt.xticks(rotation=90)\n",
    "plt.show()"
   ]
  },
  {
   "cell_type": "code",
   "execution_count": 418,
   "metadata": {},
   "outputs": [
    {
     "name": "stdout",
     "output_type": "stream",
     "text": [
      "In total, there are 320 ethnicities of which we know the name.\n"
     ]
    }
   ],
   "source": [
    "print('In total, there are {} ethnicities of which we know the name.'.format(ethnicity_count['ethnicity_name'].shape[0]))"
   ]
  },
  {
   "cell_type": "markdown",
   "metadata": {},
   "source": [
    "I asked ChatGPT to generate a list of which ethnicities can be considered Arabic. \n",
    "\n",
    "<font color=\"red\">ADD MUSLIMS</font>\n"
   ]
  },
  {
   "cell_type": "code",
   "execution_count": 419,
   "metadata": {},
   "outputs": [],
   "source": [
    "arabic_ethnicities = ['Arabs', 'Moroccan Americans', 'Lebanese Americans', 'Syrian Americans', 'Iraqi Americans', ]\n",
    "\n",
    "arabs_count = ethnicity_count[ethnicity_count['ethnicity_name'].isin(arabic_ethnicities)]"
   ]
  },
  {
   "cell_type": "code",
   "execution_count": 420,
   "metadata": {},
   "outputs": [
    {
     "name": "stdout",
     "output_type": "stream",
     "text": [
      "From the ethnicities provided, only 188 characters over the years are classified as arab characters.\n"
     ]
    }
   ],
   "source": [
    "print(f\"From the ethnicities provided, only {arabs_count['count'].sum()} characters over the years are classified as arab characters.\")"
   ]
  },
  {
   "cell_type": "markdown",
   "metadata": {},
   "source": [
    "# Arab names analysis"
   ]
  },
  {
   "cell_type": "markdown",
   "metadata": {},
   "source": [
    "Another method to distinguish arab people inside the dataset could be identifying characters with an arab or muslim name.\n",
    "A list of arab names (male and female) is retrieved from wikipedia and is contained in the file arab_names.txt."
   ]
  },
  {
   "cell_type": "code",
   "execution_count": 421,
   "metadata": {},
   "outputs": [
    {
     "name": "stdout",
     "output_type": "stream",
     "text": [
      "['abbad', 'abbas', 'abd al-uzza', 'abdus salam', 'abd manaf', 'abd rabbo', 'abdel fattah', 'abdel nour', 'abdi', 'abdolreza', 'abdu', 'abdul', 'abdul ahad', 'abdul ali', 'abdul alim', 'abdul azim', 'abd al-aziz', 'abdul baqi', 'abdul bari', 'abdul basir', 'abdul basit', 'abdul ghaffar', 'abdul ghani', 'abdul hadi', 'abdul hafiz', 'abdul hai', 'abdul hakim', 'abdul halim', 'abdul hamid', 'abdul haq', 'abdul hussein', 'abdul jabbar', 'abdul jalil', 'abdul jamil', 'abdul karim', 'abdul khaliq', 'abdul latif', 'abdul majid', 'abdul malik', 'abdul mannan', 'abdul monem', 'abdul muttalib', 'abdul qadir', 'abdul qayyum', 'abdul quddus', 'abdul rashid', 'abdul samad', 'abdul sattar', 'abdul wadud', 'abdul wahhab', 'abdul wahid', 'abdul zahir', 'abdul zahra', 'abdullah', 'abdur rab', 'abdur rahim', 'abd al-rahman', 'abdur raqib', 'abdur rauf', 'abdur razzaq', 'abdus sabur', 'abdus shakur', 'abid', 'abidin', 'abla', 'abo', 'ab', 'abu abdullah', 'abu al-qasim', 'abu bakr', 'abu hafs', 'abu hamza', 'abu nasir', 'abu nasr', \"abu'l-fadl\", 'adeel', 'adeem', 'adem', 'aden', 'adham', 'adib', 'adil', 'adir', 'adli', 'adnan', 'afif', 'ahad', 'ahmad', 'ahmed tijani', 'ahsan', 'akeem', 'akif', 'akram', 'alaa', 'aladdin', 'ali', 'ali naqi', 'ali reza', 'alim', 'aman', 'aman ali', 'amanullah', 'amer', 'amin', 'amin al-din', 'aminullah', 'amir', 'amjad', 'ammar', 'amr', 'anas', 'anis', 'anisur rahman', 'anjem', 'anwar', 'anwaruddin', 'aqeel', 'ari', 'arif', 'asad', 'asadullah', 'asem', 'asghar', 'ashraf', 'asif', 'asil', 'islam', 'ataullah', 'atif', 'atiq', 'atiqullah', 'awad', 'ayad', 'ayman', 'aiman', 'aimen', 'aymen', 'ayub', 'azeem', 'azhar', 'azim', 'azimullah', 'aziz', 'azizullah', 'azizur rahman', 'azmi', 'azus', 'abu bakr', 'badi', 'badr al-din', 'bagher', 'baha', \"baha' al-din\", 'bahri', 'baki', 'bakir', 'bara', 'barkat ali', 'barkatullah', 'bashar', 'bashir', 'basri', 'bilal', 'bilel', 'billah', 'boualem', 'boulos', 'boutros', 'brahim', 'burhan', 'burhan al-din', 'caden', 'chadli', 'daniel/danyal', 'dastgir', 'daud', 'dawoud', 'dhikrullah', 'ehsanullah', 'ekram', 'fadel', 'fahd', 'faheem', 'fahmi', 'fahri', 'faisal', 'faiz', 'faizan', 'faizullah', 'fakhr al-din', 'fakhraddin', 'fakhruddin', 'faqir', 'faraj', 'farhat', 'farid', 'fariduddin', 'faris', 'farooq', 'fasih', 'fathallah', 'fathi', 'fatin', 'fawaz', 'fawzi', 'fayez', 'fazel', 'fazl', 'fazl ur rahman', 'fazlallah', 'fazli', 'fazlul haq', 'fazlul karim', 'fikri', 'fouzan', 'fouad', 'fuad', 'furkan', 'gaffar', 'gamil', 'ghanem', 'ghassan', 'ghiyath al-din', 'ghulam', 'ghulam faruq', 'ghulam mohiuddin', 'gulzar', 'habib', 'habib ur rahman', 'habibullah', 'hadem', 'hadi', 'hadid', 'hafeez', 'hafizullah', 'haitham', 'hajj', 'hajji', 'hakam', 'hakim', 'haldun', 'halim', 'halim', 'hamdan', 'hamdi', 'hamid', 'hamid al-din', 'hamidullah', 'hamza', 'hani', 'harbi', 'hanif', 'harun', 'hashem', 'hashim', 'hasib', 'hassan', 'hassim', 'hatem', 'hayatullah', 'haydar', 'hazem', 'heikal', 'hibat allah', 'hichem', 'hidayatullah', 'hikmat', 'hilmi', 'hisham', 'hisham ud-din', 'hossam', 'hurairah', 'husam ad-din', 'hussein', 'ibrahim', 'ibro', 'idris', 'idris', 'ihab', 'ihsan', 'ikhtiyar al-din', 'ikramullah', 'ikrimah', 'ilyas', 'imad', 'imad al-din', 'imran', 'imtiaz', 'inaam', 'inam-ul-haq', 'inayatullah', 'iqbal', 'irfan', 'isa', 'ishak', 'issam', 'ishtiaq', 'iskandar', 'ismail', 'ismat ad-din', 'ismatullah', 'izz al-din', 'izzat', 'izzatullah', \"ja'far\", 'jabal', 'jaber', 'jabir', 'jabr', 'jahid', 'jalal', 'jalal ad-din', 'jamal', 'jamal ad-din', 'jameel', 'jamil', 'jarrah', 'jasem', 'jawad', 'jawdat', 'jihad', 'jubayr', 'junayd', 'jurj', \"ka'b\", 'kadeem', 'kadir', 'kadri', 'kafeel', 'kamal ad-din', 'kamil', 'karem', 'karim', 'kashif', 'kazem', 'khadem', 'khair ad-din', 'khakim', 'khalfan', 'khalid', 'khalifah', 'khalil', 'khalil-ur-rehman', 'khakim', 'khamis', 'kulthum', 'labib', 'lalji', 'latif', 'luay', 'lutfullah', 'lutfur rahman', 'mahalati', 'mahbubur', 'mahdi', 'mahfuz', 'mahir', 'mahmud', 'majid', 'malik', 'mamdouh', 'mansur', 'manzur', 'marwan', 'mashallah', 'masih', 'masoud', 'maytham', 'mehdi', 'melhem', 'midhat', 'mizanur rahman', 'moatassem', 'moeen', 'moemen', 'mohammad', 'mohannad', 'mohy al-din', 'moin', 'moinuddin', 'mojtaba', 'moncef', 'moneim', \"mu'iz ad-din\", \"mua'dh\", 'muammer', 'mubarak', 'muhammad', 'muharrem', 'muhibullah', 'muhsin', 'mukhtar', 'mumtaz', 'munib', 'munif', 'munir', 'murad', 'murtaza', 'musa', 'muslim', 'mustafa', 'muzaffar', 'nabih', 'nabil', 'nadeem', 'nader', 'nadir', 'naguib', 'nahyan', 'naif', 'naim', 'naji', 'najib', 'najibullah', 'najim', 'najm', 'najm al-din', 'naqibullah', 'naseeb', 'naseer', 'nasim', 'nasir', 'nasir al-din', 'nasrallah', 'nasri', 'nasser', 'nassif', 'nasuh', 'nawaf', 'nawaz', 'nowfal', 'nazif', 'nazim', 'nazimuddin', 'nazira', 'nazmi', 'nihad', 'nimatullah', 'nizam al-din', \"nu'man\", 'numan', 'nuh', 'nur', 'nur al-din', 'nuri', 'nurullah', 'nusrat', 'omar', 'osama', 'othman', 'qaid', 'qamar ud-din', 'qasim', 'qasymbek', 'quddus', 'qudratullah', 'qusay', 'qutb', 'qutb ad-din', 'rabih', 'raed', 'rafiq', 'rahim', 'rahman', 'rahmatullah', 'rahmi', 'rajab', 'rajaei', 'raji', 'ramiz', 'ramzan', 'rakibul', 'rakib', 'ramzi', 'rashad', 'rashid', 'rashid al-din', 'rasul', 'rayan', 'redouane', 'reza', 'riad', 'riaz', 'ridwan', 'rifat', 'rizqallah', 'ruhi', 'ruhullah', 'rukn al-din', 'rushdi', \"sa'd al-din\", 'seif ilislam', 'sa‘id', 'saud', 'saad', 'saadallah', 'sabri', 'sabah ad-din', 'saddam', 'sadik', 'sadr al-din', 'safi', 'safi al-din', 'safiullah', 'sahir', 'saif', 'saifullah', 'saifur rahman', 'sajid', 'sajjad', 'sakina', 'salah', 'salah ad-din', 'saleh', 'salem', 'salim', 'salman', 'samadu', 'samee', 'samer', 'sami', 'samir', 'samirah', 'samiullah', 'sanaullah', 'saqib', 'sardar', 'sarmad', 'satam', 'sattar', 'sayf al-din', 'sayyid', 'shaban', 'shad', 'shafiq ur rahman', 'shafiqullah', 'shahid', 'shahrukh', 'shakeel', 'shakir', 'shams', 'shams al-din', 'shamsur rahman', 'sharaf al-din', 'sharifullah', 'shawkat', 'shawki', 'shiraz', 'shihab al-din', 'shujauddin', 'shukri', 'sidique', 'sidqi', 'sirajuddin', 'suhail', 'suleiman', 'sultan', 'shaheed', 'taha', 'taher', 'tahmid', 'tahsin', 'talal', 'talat', 'talat', 'talhah', 'talib', 'taqi', 'taqi al-din', 'tarazi', 'tariq', 'tawfik', 'tayeb', 'tayfur', 'tufail', 'turki', 'ubay', 'ubayd allah', 'uday', 'uthman', 'usama', 'wadih', 'wadud', 'wael', 'wafi', 'wahed', 'wahid', 'wajdi', 'wajid', 'waleed', 'waliullah', 'wasim', 'wazir', 'wissem', 'yacine', 'yadollah', 'yahya', 'yakub', 'yahir', 'yasser', 'yunus', 'yusha', 'yusuf', 'yusuf ali', 'zafar', 'zafarullah', 'zafer', 'zahed', 'zahir', 'zahir al-din', 'zaid', 'zaim', 'zainal', 'zainal abidin', 'zakariya', 'zaki', 'zayn ad-din', 'zeeshan', 'ziad', 'ziauddin', 'ziaur rahman', 'zubayr', 'abeer', 'abiha', 'adela', 'afaf', 'afreen', 'aliya', 'alya', 'amina (disambiguation)', 'amira', 'arwa', 'ashraqat', 'ashfa', 'asma', 'atikah', 'aya', 'azhar', 'azra', 'aziza', 'boutheina', 'bushra', 'besma', 'chaima', 'dalal', 'dareen', 'esma', 'fadwa', 'farah', 'farida', 'fatima', 'feyrouz', 'fouz', 'habiba', 'hafsa', 'hajra', 'hala', 'halima', 'hamida', 'hana', 'hanifa', 'havva', 'hawa', 'hayat', 'hessa', 'huda', 'ibtisam', 'inaam', 'ireen', 'jamila', 'jana', 'jawahir', 'jena', 'joud', 'jouri', 'jumana', 'kareena', 'karima', 'khadija', 'khairunnisa', 'khawlah', 'lamia', 'latifa', 'layan', 'lulwa', 'madiha', 'maha', 'mahmuna', 'malika', 'marwa', 'maryam', 'maysoon', 'melek', 'mirna', 'munira', 'nafisa', 'nahla', 'naila', 'naima', 'najat', 'najma', 'nalini', 'nasim', 'nasrin', 'nawal', 'nayla', 'naziha', 'nazira', 'nehal', 'nejla', 'nermin', 'nezha', 'qamar ud-din', 'qistina', 'rabia', 'rahima', 'rana', 'rania', 'rashida', 'reem', 'riffat', 'rimas', 'ruqayya', 'saadia', 'sabah', 'sabiha', 'subiksha', 'safaa', 'safiya', 'sahar', 'saida', 'saira', 'sajida', 'sakhra', 'sakina', 'salma', 'samar', 'samira', 'samiya', 'sania', 'shahd', 'shakira', 'shams', 'shatha', 'sherine', 'shumaila', 'suha', 'sumaya', 'soraida', 'tahira', 'tanisha', 'taslima', 'tuba', 'umm kulthum', 'wafaa', 'waliya', 'wajahat (name)', 'wajhat (name)', 'yamina', 'yara', 'yasmin', 'zahra', 'zalayha', 'zakiya', 'zaynab', 'zuhal', 'zoraida', 'amal', 'chadi', 'farrah', 'ismat', 'laden', 'nakia', 'noor', 'nair', 'wafaa', 'zain', 'zial', 'arab', 'arabic', 'middle eastern', 'arabian', 'levantine', 'bedouin', 'maghrebi', 'levant', 'mesopotamian', 'gulf', 'levantine', 'moorish', 'berber', 'muslim', 'islamic', 'islamist', 'sunni', 'shia', 'halal', 'quranic', 'hijabi', 'salafi', 'sufi', 'wahhabi', 'muharram', 'ramadan', 'eid', 'ummah', 'muezzin', 'caliphate', 'sharia']\n"
     ]
    }
   ],
   "source": [
    "# Read the file\n",
    "with open(folder_std+'/arab_names.txt', 'r') as file:\n",
    "    names = file.readlines()\n",
    "\n",
    "# Clean and format the names (with list comprehension)\n",
    "arab_names = [' '.join(name.strip().split(' ')[0:-1]) if '(name)' in name else ' '.join(name.strip().split(' ')[0:-2]) if '(given name)' in name else name.strip() for name in names]\n",
    "\n",
    "arab_names = [str(item).lower() for item in arab_names]\n",
    "print(arab_names)"
   ]
  },
  {
   "cell_type": "code",
   "execution_count": 422,
   "metadata": {},
   "outputs": [
    {
     "data": {
      "text/html": [
       "<div>\n",
       "<style scoped>\n",
       "    .dataframe tbody tr th:only-of-type {\n",
       "        vertical-align: middle;\n",
       "    }\n",
       "\n",
       "    .dataframe tbody tr th {\n",
       "        vertical-align: top;\n",
       "    }\n",
       "\n",
       "    .dataframe thead th {\n",
       "        text-align: right;\n",
       "    }\n",
       "</style>\n",
       "<table border=\"1\" class=\"dataframe\">\n",
       "  <thead>\n",
       "    <tr style=\"text-align: right;\">\n",
       "      <th></th>\n",
       "      <th>wikiID</th>\n",
       "      <th>freeID</th>\n",
       "      <th>movie_name</th>\n",
       "      <th>release_date</th>\n",
       "      <th>revenue</th>\n",
       "      <th>runtime</th>\n",
       "      <th>languages</th>\n",
       "      <th>countries</th>\n",
       "      <th>genres</th>\n",
       "      <th>character_name</th>\n",
       "      <th>birth</th>\n",
       "      <th>gender</th>\n",
       "      <th>height</th>\n",
       "      <th>ethnicity_code</th>\n",
       "      <th>actor_name</th>\n",
       "      <th>age_at_release</th>\n",
       "      <th>freeID_character_actor_map</th>\n",
       "      <th>freeID_character</th>\n",
       "      <th>freeID_actor</th>\n",
       "      <th>ethnicity_name</th>\n",
       "    </tr>\n",
       "  </thead>\n",
       "  <tbody>\n",
       "    <tr>\n",
       "      <th>0</th>\n",
       "      <td>975900</td>\n",
       "      <td>/m/03vyhn</td>\n",
       "      <td>Ghosts of Mars</td>\n",
       "      <td>2001-08-24</td>\n",
       "      <td>14010832.0</td>\n",
       "      <td>98.0</td>\n",
       "      <td>{\"/m/02h40lc\": \"English Language\"}</td>\n",
       "      <td>[United States of America]</td>\n",
       "      <td>{\"/m/01jfsb\": \"Thriller\", \"/m/06n90\": \"Science...</td>\n",
       "      <td>akooshay</td>\n",
       "      <td>1958-08-26</td>\n",
       "      <td>F</td>\n",
       "      <td>1.62</td>\n",
       "      <td>NaN</td>\n",
       "      <td>Wanda De Jesus</td>\n",
       "      <td>42.0</td>\n",
       "      <td>/m/0bgchxw</td>\n",
       "      <td>/m/0bgcj3x</td>\n",
       "      <td>/m/03wcfv7</td>\n",
       "      <td>NaN</td>\n",
       "    </tr>\n",
       "    <tr>\n",
       "      <th>1</th>\n",
       "      <td>975900</td>\n",
       "      <td>/m/03vyhn</td>\n",
       "      <td>Ghosts of Mars</td>\n",
       "      <td>2001-08-24</td>\n",
       "      <td>14010832.0</td>\n",
       "      <td>98.0</td>\n",
       "      <td>{\"/m/02h40lc\": \"English Language\"}</td>\n",
       "      <td>[United States of America]</td>\n",
       "      <td>{\"/m/01jfsb\": \"Thriller\", \"/m/06n90\": \"Science...</td>\n",
       "      <td>lieutenant melanie ballard</td>\n",
       "      <td>1974-08-15</td>\n",
       "      <td>F</td>\n",
       "      <td>1.78</td>\n",
       "      <td>/m/044038p</td>\n",
       "      <td>Natasha Henstridge</td>\n",
       "      <td>27.0</td>\n",
       "      <td>/m/0jys3m</td>\n",
       "      <td>/m/0bgchn4</td>\n",
       "      <td>/m/0346l4</td>\n",
       "      <td>NaN</td>\n",
       "    </tr>\n",
       "  </tbody>\n",
       "</table>\n",
       "</div>"
      ],
      "text/plain": [
       "   wikiID     freeID      movie_name release_date     revenue  runtime  \\\n",
       "0  975900  /m/03vyhn  Ghosts of Mars   2001-08-24  14010832.0     98.0   \n",
       "1  975900  /m/03vyhn  Ghosts of Mars   2001-08-24  14010832.0     98.0   \n",
       "\n",
       "                            languages                   countries  \\\n",
       "0  {\"/m/02h40lc\": \"English Language\"}  [United States of America]   \n",
       "1  {\"/m/02h40lc\": \"English Language\"}  [United States of America]   \n",
       "\n",
       "                                              genres  \\\n",
       "0  {\"/m/01jfsb\": \"Thriller\", \"/m/06n90\": \"Science...   \n",
       "1  {\"/m/01jfsb\": \"Thriller\", \"/m/06n90\": \"Science...   \n",
       "\n",
       "               character_name       birth gender  height ethnicity_code  \\\n",
       "0                    akooshay  1958-08-26      F    1.62            NaN   \n",
       "1  lieutenant melanie ballard  1974-08-15      F    1.78     /m/044038p   \n",
       "\n",
       "           actor_name  age_at_release freeID_character_actor_map  \\\n",
       "0      Wanda De Jesus            42.0                 /m/0bgchxw   \n",
       "1  Natasha Henstridge            27.0                  /m/0jys3m   \n",
       "\n",
       "  freeID_character freeID_actor ethnicity_name  \n",
       "0       /m/0bgcj3x   /m/03wcfv7            NaN  \n",
       "1       /m/0bgchn4    /m/0346l4            NaN  "
      ]
     },
     "execution_count": 422,
     "metadata": {},
     "output_type": "execute_result"
    }
   ],
   "source": [
    "movies_characters_eth['character_name'] = movies_characters_eth['character_name'].astype(str).str.lower()\n",
    "movies_characters_eth.head(2)"
   ]
  },
  {
   "cell_type": "code",
   "execution_count": 423,
   "metadata": {},
   "outputs": [],
   "source": [
    "# Function to determin if the character name is an arab name\n",
    "def filter_arab_names(name):\n",
    "    for n in arab_names:\n",
    "        if n in name.split():\n",
    "            return True\n",
    "        \n",
    "    return False"
   ]
  },
  {
   "cell_type": "markdown",
   "metadata": {},
   "source": [
    "The dataframe is filtered for what are designated as \"arabic characters\".\n",
    "\n",
    "This line of code is the longest of the notebook to be executed."
   ]
  },
  {
   "cell_type": "code",
   "execution_count": 424,
   "metadata": {},
   "outputs": [],
   "source": [
    "movies_characters_eth_filtered = movies_characters_eth[movies_characters_eth['character_name'].apply(filter_arab_names)]"
   ]
  },
  {
   "cell_type": "code",
   "execution_count": 425,
   "metadata": {},
   "outputs": [
    {
     "data": {
      "text/plain": [
       "202                        rahim\n",
       "564       i.s.i chief ishak khan\n",
       "798                     amal raj\n",
       "987                ali la pointe\n",
       "991                       halima\n",
       "                   ...          \n",
       "447804             jamal hassani\n",
       "448077                     nader\n",
       "449075          rev. fred sultan\n",
       "449653                bobby nair\n",
       "450406              prince akeem\n",
       "Name: character_name, Length: 1492, dtype: object"
      ]
     },
     "execution_count": 425,
     "metadata": {},
     "output_type": "execute_result"
    }
   ],
   "source": [
    "# Examples of character names classified as arab names\n",
    "movies_characters_eth_filtered['character_name']"
   ]
  },
  {
   "cell_type": "code",
   "execution_count": 426,
   "metadata": {},
   "outputs": [
    {
     "name": "stdout",
     "output_type": "stream",
     "text": [
      "The number of characters with a name classified as arab is 1492.\n"
     ]
    }
   ],
   "source": [
    "print('The number of characters with a name classified as arab is {}.'.format(movies_characters_eth_filtered['character_name'].shape[0]))"
   ]
  },
  {
   "cell_type": "code",
   "execution_count": 427,
   "metadata": {},
   "outputs": [
    {
     "data": {
      "text/html": [
       "<div>\n",
       "<style scoped>\n",
       "    .dataframe tbody tr th:only-of-type {\n",
       "        vertical-align: middle;\n",
       "    }\n",
       "\n",
       "    .dataframe tbody tr th {\n",
       "        vertical-align: top;\n",
       "    }\n",
       "\n",
       "    .dataframe thead th {\n",
       "        text-align: right;\n",
       "    }\n",
       "</style>\n",
       "<table border=\"1\" class=\"dataframe\">\n",
       "  <thead>\n",
       "    <tr style=\"text-align: right;\">\n",
       "      <th></th>\n",
       "      <th>wikiID</th>\n",
       "      <th>freeID</th>\n",
       "      <th>movie_name</th>\n",
       "      <th>release_date</th>\n",
       "      <th>revenue</th>\n",
       "      <th>runtime</th>\n",
       "      <th>languages</th>\n",
       "      <th>countries</th>\n",
       "      <th>genres</th>\n",
       "      <th>character_name</th>\n",
       "      <th>birth</th>\n",
       "      <th>gender</th>\n",
       "      <th>height</th>\n",
       "      <th>ethnicity_code</th>\n",
       "      <th>actor_name</th>\n",
       "      <th>age_at_release</th>\n",
       "      <th>freeID_character_actor_map</th>\n",
       "      <th>freeID_character</th>\n",
       "      <th>freeID_actor</th>\n",
       "      <th>ethnicity_name</th>\n",
       "    </tr>\n",
       "  </thead>\n",
       "  <tbody>\n",
       "    <tr>\n",
       "      <th>202</th>\n",
       "      <td>11448183</td>\n",
       "      <td>/m/02rc_h4</td>\n",
       "      <td>Bindiya Chamkegi</td>\n",
       "      <td>1984-01-20</td>\n",
       "      <td>NaN</td>\n",
       "      <td>NaN</td>\n",
       "      <td>{\"/m/03k50\": \"Hindi Language\"}</td>\n",
       "      <td>[India]</td>\n",
       "      <td>{\"/m/0hqxf\": \"Family Film\", \"/m/01z4y\": \"Comedy\"}</td>\n",
       "      <td>rahim</td>\n",
       "      <td>1923-11-11</td>\n",
       "      <td>M</td>\n",
       "      <td>NaN</td>\n",
       "      <td>/m/0dryh9k</td>\n",
       "      <td>Johnny Walker</td>\n",
       "      <td>60.0</td>\n",
       "      <td>/m/02vd0_r</td>\n",
       "      <td>/m/0h6_rbb</td>\n",
       "      <td>/m/07l4kn</td>\n",
       "      <td>NaN</td>\n",
       "    </tr>\n",
       "    <tr>\n",
       "      <th>564</th>\n",
       "      <td>4300418</td>\n",
       "      <td>/m/0bvx7h</td>\n",
       "      <td>The Hero: Love Story of a Spy</td>\n",
       "      <td>2003-04-11</td>\n",
       "      <td>NaN</td>\n",
       "      <td>182.0</td>\n",
       "      <td>{\"/m/03k50\": \"Hindi Language\"}</td>\n",
       "      <td>[India]</td>\n",
       "      <td>{\"/m/01jfsb\": \"Thriller\", \"/m/0cq22f9\": \"Actio...</td>\n",
       "      <td>i.s.i chief ishak khan</td>\n",
       "      <td>1932-06-22</td>\n",
       "      <td>M</td>\n",
       "      <td>NaN</td>\n",
       "      <td>/m/0dryh9k</td>\n",
       "      <td>Amrish Puri</td>\n",
       "      <td>70.0</td>\n",
       "      <td>/m/0k5bsd</td>\n",
       "      <td>/m/0h73qj8</td>\n",
       "      <td>/m/01k6nm</td>\n",
       "      <td>NaN</td>\n",
       "    </tr>\n",
       "  </tbody>\n",
       "</table>\n",
       "</div>"
      ],
      "text/plain": [
       "       wikiID      freeID                     movie_name release_date  \\\n",
       "202  11448183  /m/02rc_h4               Bindiya Chamkegi   1984-01-20   \n",
       "564   4300418   /m/0bvx7h  The Hero: Love Story of a Spy   2003-04-11   \n",
       "\n",
       "     revenue  runtime                       languages countries  \\\n",
       "202      NaN      NaN  {\"/m/03k50\": \"Hindi Language\"}   [India]   \n",
       "564      NaN    182.0  {\"/m/03k50\": \"Hindi Language\"}   [India]   \n",
       "\n",
       "                                                genres  \\\n",
       "202  {\"/m/0hqxf\": \"Family Film\", \"/m/01z4y\": \"Comedy\"}   \n",
       "564  {\"/m/01jfsb\": \"Thriller\", \"/m/0cq22f9\": \"Actio...   \n",
       "\n",
       "             character_name       birth gender  height ethnicity_code  \\\n",
       "202                   rahim  1923-11-11      M     NaN     /m/0dryh9k   \n",
       "564  i.s.i chief ishak khan  1932-06-22      M     NaN     /m/0dryh9k   \n",
       "\n",
       "        actor_name  age_at_release freeID_character_actor_map  \\\n",
       "202  Johnny Walker            60.0                 /m/02vd0_r   \n",
       "564    Amrish Puri            70.0                  /m/0k5bsd   \n",
       "\n",
       "    freeID_character freeID_actor ethnicity_name  \n",
       "202       /m/0h6_rbb    /m/07l4kn            NaN  \n",
       "564       /m/0h73qj8    /m/01k6nm            NaN  "
      ]
     },
     "execution_count": 427,
     "metadata": {},
     "output_type": "execute_result"
    }
   ],
   "source": [
    "movies_characters_eth_filtered.head(2)"
   ]
  },
  {
   "cell_type": "code",
   "execution_count": 428,
   "metadata": {},
   "outputs": [
    {
     "data": {
      "image/png": "[encoded data removed]",
      "text/plain": [
       "<Figure size 1000x500 with 1 Axes>"
      ]
     },
     "metadata": {},
     "output_type": "display_data"
    }
   ],
   "source": [
    "# How many movies with arab people per year\n",
    "yearly_characters = movies_characters_eth_filtered.groupby(movies_characters_eth_filtered['release_date'].dt.year)['character_name'].count().reset_index(name='count')\n",
    "plt.figure(figsize=(10,5))\n",
    "plt.bar(yearly_characters['release_date'],yearly_characters['count'])\n",
    "\n",
    "plt.xlabel('Year')\n",
    "plt.ylabel('Number of characters')\n",
    "plt.title('Number of arab named characters per year')\n",
    "plt.show()"
   ]
  },
  {
   "cell_type": "code",
   "execution_count": 429,
   "metadata": {},
   "outputs": [
    {
     "name": "stdout",
     "output_type": "stream",
     "text": [
      "Arab named characters before the year 2001 are 560\n",
      "Arab named characters after the year 2001 are 869\n",
      "The total is less because some movies do not have the release date (NaN).\n"
     ]
    }
   ],
   "source": [
    "# classifying the movies as before and after 2001\n",
    "count_before2001 = yearly_characters[yearly_characters['release_date']<2001]['count'].sum()\n",
    "count_after2001 = yearly_characters[yearly_characters['release_date']>=2001]['count'].sum()\n",
    "print(f'Arab named characters before the year 2001 are {count_before2001}')\n",
    "print(f'Arab named characters after the year 2001 are {count_after2001}')\n",
    "print('The total is less because some movies do not have the release date (NaN).')"
   ]
  },
  {
   "cell_type": "code",
   "execution_count": 435,
   "metadata": {},
   "outputs": [
    {
     "data": {
      "image/png": "[encoded data removed]",
      "text/plain": [
       "<Figure size 640x480 with 1 Axes>"
      ]
     },
     "metadata": {},
     "output_type": "display_data"
    }
   ],
   "source": [
    "# Arab characters per country\n",
    "exploded = movies_characters_eth_filtered.explode('countries')\n",
    "country_counts = exploded['countries'].value_counts()\n",
    "\n",
    "plt.bar(country_counts.index[:20],country_counts.values[:20])\n",
    "plt.xticks(rotation=90)\n",
    "plt.xlabel('Country')\n",
    "plt.ylabel('Number of characters')\n",
    "plt.show()"
   ]
  },
  {
   "cell_type": "markdown",
   "metadata": {},
   "source": [
    "We are mainly interested in movies from USA."
   ]
  },
  {
   "cell_type": "code",
   "execution_count": 436,
   "metadata": {},
   "outputs": [
    {
     "name": "stdout",
     "output_type": "stream",
     "text": [
      "The total number of characters from the USA is 392.\n"
     ]
    }
   ],
   "source": [
    "# Arab movie characters from the USA\n",
    "arab_usa = country_counts['United States of America']\n",
    "print('The total number of characters from the USA is {}.'.format(arab_usa))"
   ]
  },
  {
   "cell_type": "code",
   "execution_count": 437,
   "metadata": {},
   "outputs": [
    {
     "name": "stdout",
     "output_type": "stream",
     "text": [
      "The total number of characters from the USA before 2001 is 159.\n",
      "The total number of characters from the USA after 2001 is 215.\n"
     ]
    }
   ],
   "source": [
    "# Arab movie characters from the USA before and after 2001\n",
    "arab_usa_before = exploded[exploded['release_date'].dt.year<2001]['countries'].value_counts()['United States of America']\n",
    "arab_usa_after = exploded[exploded['release_date'].dt.year>=2001]['countries'].value_counts()['United States of America']\n",
    "print('The total number of characters from the USA before 2001 is {}.'.format(arab_usa_before))\n",
    "print('The total number of characters from the USA after 2001 is {}.'.format(arab_usa_after))"
   ]
  },
  {
   "cell_type": "code",
   "execution_count": 438,
   "metadata": {},
   "outputs": [
    {
     "data": {
      "image/png": "[encoded data removed]",
      "text/plain": [
       "<Figure size 1000x500 with 1 Axes>"
      ]
     },
     "metadata": {},
     "output_type": "display_data"
    }
   ],
   "source": [
    "# Characters from the USA per year\n",
    "usa_per_year = exploded[exploded['countries']=='United States of America']\n",
    "usa_per_year = usa_per_year.groupby(usa_per_year['release_date'].dt.year)['release_date'].count()\n",
    "plt.figure(figsize=(10,5))\n",
    "plt.bar(usa_per_year.index,usa_per_year.values)\n",
    "plt.xlabel('Year')\n",
    "plt.ylabel('Number of characters')\n",
    "plt.title('Number of characters from the USA per year')\n",
    "plt.show()"
   ]
  },
  {
   "cell_type": "markdown",
   "metadata": {},
   "source": [
    "As we are interested in macrocathegories, it can be useful to group cathegories of countries. The choice is done by taking the three countries with the most arabic characters, and consider all the rest as 'Others'.\n",
    "\n",
    "The dataframe column 'countries' is thus reclassified with the three cathegories:\n",
    "- United States of America\n",
    "- India\n",
    "- France\n",
    "- Others"
   ]
  },
  {
   "cell_type": "code",
   "execution_count": 439,
   "metadata": {},
   "outputs": [
    {
     "data": {
      "image/png": "[encoded data removed]",
      "text/plain": [
       "<Figure size 1000x500 with 1 Axes>"
      ]
     },
     "metadata": {},
     "output_type": "display_data"
    }
   ],
   "source": [
    "# Classify countries with USA, India and others\n",
    "characters_main_countries = movies_characters_eth_filtered[movies_characters_eth_filtered['countries'].isin(['India','United States of America','France'])]\n",
    "\n",
    "yearly_characters = movies_characters_eth_filtered.groupby(movies_characters_eth_filtered['release_date'].dt.year)['character_name'].count().reset_index(name='count')\n",
    "plt.figure(figsize=(10,5))\n",
    "plt.bar(yearly_characters['release_date'],yearly_characters['count'])\n",
    "\n",
    "plt.xlabel('Year')\n",
    "plt.ylabel('Number of characters')\n",
    "plt.title('Number of arab named characters per year')\n",
    "plt.show()"
   ]
  },
  {
   "cell_type": "code",
   "execution_count": 441,
   "metadata": {},
   "outputs": [],
   "source": [
    "# Function that builds a mask for countries which contain one of the main countries\n",
    "def filter_countries(country):\n",
    "    for element in country:\n",
    "        if element in ['India','United States of America','France']:\n",
    "            return True\n",
    "    return False"
   ]
  },
  {
   "cell_type": "code",
   "execution_count": 442,
   "metadata": {},
   "outputs": [],
   "source": [
    "# Reduce the dataframe 'movies_characters_eth_filtered' to the main countries\n",
    "main_countries_characters = movies_characters_eth_filtered[movies_characters_eth_filtered['countries'].apply(filter_countries)]"
   ]
  },
  {
   "cell_type": "code",
   "execution_count": 443,
   "metadata": {},
   "outputs": [
    {
     "data": {
      "image/png": "[encoded data removed]",
      "text/plain": [
       "<Figure size 1000x500 with 1 Axes>"
      ]
     },
     "metadata": {},
     "output_type": "display_data"
    }
   ],
   "source": [
    "# Explode the countries column of the complete dataframe\n",
    "exploded_main = movies_characters_eth_filtered.explode('countries')\n",
    "\n",
    "# consider only United States of America, India and France and and substitute others with 'Others'\n",
    "exploded_main['countries'] = exploded_main['countries'].apply(lambda x: x if x in ['United States of America','India','France'] else 'Others')\n",
    "\n",
    "main_countries = exploded_main.groupby([exploded_main['release_date'].dt.year,exploded_main['countries']])['countries'].count().unstack()\n",
    "# convert year index into integers\n",
    "main_countries.index = main_countries.index.astype(int)\n",
    "main_countries[['United States of America','India','France','Others']].plot(kind='bar', stacked=True, figsize=(10,5))\n",
    "plt.xlabel('Year')\n",
    "plt.ylabel('Number of characters')\n",
    "plt.title('Number of arab named characters per year')\n",
    "plt.xticks(np.arange(0, 80, 10),rotation=0)\n",
    "plt.show()"
   ]
  },
  {
   "cell_type": "markdown",
   "metadata": {},
   "source": [
    "# Check the presence of arab names in the plot"
   ]
  },
  {
   "cell_type": "markdown",
   "metadata": {},
   "source": [
    "It is important to verify that the characters we are considering are present in the plot. In fact, only these characters can be used for a sentiment analysis in the further stages of the project."
   ]
  }
 ],
 "metadata": {
  "kernelspec": {
   "display_name": "ada",
   "language": "python",
   "name": "python3"
  },
  "language_info": {
   "codemirror_mode": {
    "name": "ipython",
    "version": 3
   },
   "file_extension": ".py",
   "mimetype": "text/x-python",
   "name": "python",
   "nbconvert_exporter": "python",
   "pygments_lexer": "ipython3",
   "version": "3.9.18"
  }
 },
 "nbformat": 4,
 "nbformat_minor": 2
}
